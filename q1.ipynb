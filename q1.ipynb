{
  "nbformat": 4,
  "nbformat_minor": 0,
  "metadata": {
    "colab": {
      "provenance": [],
      "gpuType": "T4",
      "authorship_tag": "ABX9TyOHWlreuv7h9ndC6bb3P5LY",
      "include_colab_link": true
    },
    "kernelspec": {
      "name": "python3",
      "display_name": "Python 3"
    },
    "language_info": {
      "name": "python"
    },
    "accelerator": "GPU"
  },
  "cells": [
    {
      "cell_type": "markdown",
      "metadata": {
        "id": "view-in-github",
        "colab_type": "text"
      },
      "source": [
        "<a href=\"https://colab.research.google.com/github/anmol9910/computer-vision-assessment-iisc/blob/main/q1.ipynb\" target=\"_parent\"><img src=\"https://colab.research.google.com/assets/colab-badge.svg\" alt=\"Open In Colab\"/></a>"
      ]
    },
    {
      "cell_type": "code",
      "source": [
        "\n",
        "\n",
        "# Core PyTorch libraries for building and training models\n",
        "import torch\n",
        "import torch.nn as nn\n",
        "import torch.optim as optim\n",
        "\n",
        "# Torchvision for datasets and image transformations\n",
        "import torchvision\n",
        "import torchvision.transforms as transforms\n",
        "from torch.utils.data import DataLoader\n",
        "\n",
        "# TQDM for a clean progress bar during training\n",
        "from tqdm import tqdm\n",
        "import os # For handling file paths (like saving models)\n",
        "\n",
        "# - Device Configuration -\n",
        "# Set the device to a CUDA GPU if available, otherwise use the CPU\n",
        "COMPUTE_DEVICE = torch.device('cuda' if torch.cuda.is_available() else 'cpu')\n",
        "print(f\"Device configured for training: {COMPUTE_DEVICE}\")"
      ],
      "metadata": {
        "colab": {
          "base_uri": "https://localhost:8080/"
        },
        "id": "zqo5rBqA53QD",
        "outputId": "31b6982a-2946-4e64-edfa-576df4287a2e"
      },
      "execution_count": null,
      "outputs": [
        {
          "output_type": "stream",
          "name": "stdout",
          "text": [
            "Device configured for training: cuda\n"
          ]
        }
      ]
    },
    {
      "cell_type": "code",
      "source": [
        "\n",
        "\n",
        "# - Training Configuration -\n",
        "TRAIN_BATCH_SIZE = 256\n",
        "VALID_BATCH_SIZE = 256\n",
        "INITIAL_LR = 3e-4  # A common starting learning rate for AdamW\n",
        "NUM_EPOCHS = 15   # More epochs for better convergence\n",
        "WEIGHT_DECAY = 1e-4 # Regularization parameter for AdamW\n",
        "\n",
        "#  Model Architecture Configuration\n",
        "# Based on a smaller version of ViT, suitable for CIFAR-10\n",
        "IMG_DIM = 32\n",
        "PATCH_DIM = 4\n",
        "INPUT_CHANNELS = 3\n",
        "NUM_CLASSES_OUTPUT = 10\n",
        "\n",
        "EMBEDDING_DIM = 384       # d_model: The dimensionality of the token embeddings\n",
        "TRANSFORMER_DEPTH = 7         # Number of stacked transformer encoder blocks\n",
        "NUM_ATTENTION_HEADS = 6   # Number of heads for the multi-head attention mechanism\n",
        "MLP_HIDDEN_DIM = EMBEDDING_DIM * 4 # Hidden dimension for the MLP in the encoder\n",
        "\n",
        "# --- Dropout Rates ---\n",
        "ATTN_DROPOUT_RATE = 0.1\n",
        "MLP_DROPOUT_RATE = 0.1"
      ],
      "metadata": {
        "id": "uwIireof6FD8"
      },
      "execution_count": null,
      "outputs": []
    },
    {
      "cell_type": "code",
      "source": [
        "from google.colab import drive\n",
        "drive.mount('/content/drive')"
      ],
      "metadata": {
        "colab": {
          "base_uri": "https://localhost:8080/"
        },
        "id": "paQYnXLx875N",
        "outputId": "a4626217-465a-4cc3-dacb-d9f8138bfc24"
      },
      "execution_count": null,
      "outputs": [
        {
          "output_type": "stream",
          "name": "stdout",
          "text": [
            "Drive already mounted at /content/drive; to attempt to forcibly remount, call drive.mount(\"/content/drive\", force_remount=True).\n"
          ]
        }
      ]
    },
    {
      "cell_type": "code",
      "source": [
        "# Cell 3: Data Preparation and Augmentation\n",
        "\n",
        "# --- Data Augmentation Pipelines ---\n",
        "# For training, we apply aggressive augmentations to prevent overfitting\n",
        "training_augmentations = transforms.Compose([\n",
        "    transforms.RandomCrop(IMG_DIM, padding=4, padding_mode='reflect'),\n",
        "    transforms.RandomHorizontalFlip(),\n",
        "\n",
        "    transforms.ToTensor(),\n",
        "    transforms.Normalize((0.4914, 0.4822, 0.4465), (0.2470, 0.2435, 0.2616))\n",
        "])\n",
        "\n",
        "# For validation/testing, we only normalize the images\n",
        "validation_augmentations = transforms.Compose([\n",
        "    transforms.ToTensor(),\n",
        "    transforms.Normalize((0.4914, 0.4822, 0.4465), (0.2470, 0.2435, 0.2616))\n",
        "])\n",
        "\n",
        "# --- Dataset and DataLoader Creation ---\n",
        "train_data = torchvision.datasets.CIFAR10(root='./data', train=True, download=True, transform=training_augmentations)\n",
        "test_data = torchvision.datasets.CIFAR10(root='./data', train=False, download=True, transform=validation_augmentations)\n",
        "\n",
        "train_dataloader = DataLoader(train_data, batch_size=TRAIN_BATCH_SIZE, shuffle=True, num_workers=2, pin_memory=True)\n",
        "test_dataloader = DataLoader(test_data, batch_size=VALID_BATCH_SIZE, shuffle=False, num_workers=2, pin_memory=True)\n",
        "\n",
        "print(f\"Data Loaded: {len(train_data)} training samples and {len(test_data)} test samples.\")"
      ],
      "metadata": {
        "colab": {
          "base_uri": "https://localhost:8080/"
        },
        "id": "OMrwZ-a06U_M",
        "outputId": "74310d31-2ea2-46db-97d1-44043d026578"
      },
      "execution_count": null,
      "outputs": [
        {
          "output_type": "stream",
          "name": "stdout",
          "text": [
            "Data Loaded: 50000 training samples and 10000 test samples.\n"
          ]
        }
      ]
    },
    {
      "cell_type": "code",
      "source": [
        "# Cell 4: Image to Patches Module\n",
        "\n",
        "# This class handles the initial patching and embedding of the input image.\n",
        "class ImageToPatches(nn.Module):\n",
        "    def __init__(self, image_size, patch_size, in_channels, embedding_dim):\n",
        "        super().__init__()\n",
        "        if image_size % patch_size != 0:\n",
        "            raise ValueError(\"Image dimensions must be divisible by the patch size.\")\n",
        "\n",
        "        self.num_patches = (image_size // patch_size) ** 2\n",
        "\n",
        "        # We use a Conv2D layer as an efficient way to perform both patching and linear projection.\n",
        "        self.patch_projection_layer = nn.Conv2d(\n",
        "            in_channels,\n",
        "            embedding_dim,\n",
        "            kernel_size=patch_size,\n",
        "            stride=patch_size\n",
        "        )\n",
        "\n",
        "    def forward(self, image_tensor):\n",
        "        # image_tensor shape: [B, C, H, W]\n",
        "        # After projection: [B, D, H/P, W/P]\n",
        "        projections = self.patch_projection_layer(image_tensor)\n",
        "\n",
        "        # Reshape for the transformer: [B, D, Num_Patches] -> [B, Num_Patches, D]\n",
        "        projections = projections.flatten(2).transpose(1, 2)\n",
        "        return projections"
      ],
      "metadata": {
        "id": "8EAg6Lna6n6S"
      },
      "execution_count": null,
      "outputs": []
    },
    {
      "cell_type": "code",
      "source": [
        "# Cell 5: Transformer Encoder Block Module\n",
        "\n",
        "# This class implements a single block of the Transformer Encoder.\n",
        "class ViTEncoderBlock(nn.Module):\n",
        "    def __init__(self, embedding_dim, num_attention_heads, mlp_hidden_dim, drop_rate_attn=0.1, drop_rate_mlp=0.1):\n",
        "        super().__init__()\n",
        "        # --- Self-Attention Mechanism ---\n",
        "        self.pre_attn_norm = nn.LayerNorm(embedding_dim)\n",
        "        self.attention = nn.MultiheadAttention(embedding_dim, num_attention_heads, dropout=drop_rate_attn, batch_first=True)\n",
        "\n",
        "        # --- Feed-Forward MLP ---\n",
        "        self.post_attn_norm = nn.LayerNorm(embedding_dim)\n",
        "        self.feed_forward = nn.Sequential(\n",
        "            nn.Linear(embedding_dim, mlp_hidden_dim),\n",
        "            nn.GELU(),\n",
        "            nn.Dropout(drop_rate_mlp),\n",
        "            nn.Linear(mlp_hidden_dim, embedding_dim),\n",
        "            nn.Dropout(drop_rate_mlp)\n",
        "        )\n",
        "\n",
        "    def forward(self, input_tensor):\n",
        "        # Pre-Normalization (Pre-Norm) architecture is often more stable\n",
        "        # First residual connection (around attention)\n",
        "        norm_input = self.pre_attn_norm(input_tensor)\n",
        "        attention_output, _ = self.attention(norm_input, norm_input, norm_input)\n",
        "        residual1 = input_tensor + attention_output\n",
        "\n",
        "        # Second residual connection (around MLP)\n",
        "        norm_residual1 = self.post_attn_norm(residual1)\n",
        "        mlp_output = self.feed_forward(norm_residual1)\n",
        "        final_output = residual1 + mlp_output\n",
        "\n",
        "        return final_output"
      ],
      "metadata": {
        "id": "OwPSHCou66dm"
      },
      "execution_count": null,
      "outputs": []
    },
    {
      "cell_type": "code",
      "source": [
        "# Cell 6: Complete Vision Transformer Model\n",
        "\n",
        "# This class assembles all the components into the final Vision Transformer model.\n",
        "class MyVisionTransformer(nn.Module):\n",
        "    def __init__(self, image_size, patch_size, in_channels, num_classes,\n",
        "                 embedding_dim, depth, num_heads, mlp_dim, dropout_rates):\n",
        "        super().__init__()\n",
        "\n",
        "        # 1. Patching and Embedding Layer\n",
        "        self.patch_creator = ImageToPatches(image_size, patch_size, in_channels, embedding_dim)\n",
        "        num_patches = self.patch_creator.num_patches\n",
        "\n",
        "        # 2. Learnable CLS token for classification\n",
        "        self.cls_token = nn.Parameter(torch.randn(1, 1, embedding_dim))\n",
        "\n",
        "        # 3. Learnable Positional Embeddings\n",
        "        self.positional_embeddings = nn.Parameter(torch.randn(1, num_patches + 1, embedding_dim))\n",
        "        self.pos_dropout = nn.Dropout(p=dropout_rates['mlp'])\n",
        "\n",
        "        # 4. Stack of Transformer Encoder Blocks\n",
        "        self.encoder_layers = nn.ModuleList([\n",
        "            ViTEncoderBlock(embedding_dim, num_heads, mlp_dim, dropout_rates['attn'], dropout_rates['mlp'])\n",
        "            for _ in range(depth)\n",
        "        ])\n",
        "\n",
        "        # 5. Final classification head\n",
        "        self.final_norm = nn.LayerNorm(embedding_dim)\n",
        "        self.classifier_head = nn.Linear(embedding_dim, num_classes)\n",
        "\n",
        "    def forward(self, image):\n",
        "        batch_size = image.shape[0]\n",
        "\n",
        "        # Create patches and prepend the CLS token\n",
        "        patches = self.patch_creator(image)\n",
        "        cls_tokens = self.cls_token.expand(batch_size, -1, -1)\n",
        "        tokens = torch.cat((cls_tokens, patches), dim=1)\n",
        "\n",
        "        # Add positional information\n",
        "        tokens_with_pos = tokens + self.positional_embeddings\n",
        "        tokens_with_pos = self.pos_dropout(tokens_with_pos)\n",
        "\n",
        "        # Pass through the transformer encoder stack\n",
        "        encoded_tokens = tokens_with_pos\n",
        "        for layer in self.encoder_layers:\n",
        "            encoded_tokens = layer(encoded_tokens)\n",
        "\n",
        "        # Extract the CLS token's output for classification\n",
        "        cls_output = encoded_tokens[:, 0]\n",
        "        cls_output_norm = self.final_norm(cls_output)\n",
        "\n",
        "        # Get final class logits\n",
        "        logits = self.classifier_head(cls_output_norm)\n",
        "        return logits"
      ],
      "metadata": {
        "id": "JeSM0RKz7DhN"
      },
      "execution_count": null,
      "outputs": []
    },
    {
      "cell_type": "code",
      "source": [
        "# Cell 7: Model Initialization and Sanity Check\n",
        "\n",
        "dropout_config = {'attn': ATTN_DROPOUT_RATE, 'mlp': MLP_DROPOUT_RATE}\n",
        "\n",
        "# Instantiate the model with our defined hyperparameters\n",
        "vit_model = MyVisionTransformer(\n",
        "    image_size=IMG_DIM,\n",
        "    patch_size=PATCH_DIM,\n",
        "    in_channels=INPUT_CHANNELS,\n",
        "    num_classes=NUM_CLASSES_OUTPUT,\n",
        "    embedding_dim=EMBEDDING_DIM,\n",
        "    depth=TRANSFORMER_DEPTH,\n",
        "    num_heads=NUM_ATTENTION_HEADS,\n",
        "    mlp_dim=MLP_HIDDEN_DIM,\n",
        "    dropout_rates=dropout_config\n",
        ").to(COMPUTE_DEVICE)\n",
        "\n",
        "# --- Sanity Check ---\n",
        "# Check if a dummy tensor passes through the model without errors\n",
        "dummy_tensor = torch.randn(5, INPUT_CHANNELS, IMG_DIM, IMG_DIM).to(COMPUTE_DEVICE)\n",
        "prediction = vit_model(dummy_tensor)\n",
        "print(f\"Sanity Check Passed! Output shape for a batch of 5: {prediction.shape}\") # Should be [5, 10]"
      ],
      "metadata": {
        "colab": {
          "base_uri": "https://localhost:8080/"
        },
        "id": "xJkKbU8J7I0e",
        "outputId": "2d83a6dd-3263-417f-9195-4587bdf6c349"
      },
      "execution_count": null,
      "outputs": [
        {
          "output_type": "stream",
          "name": "stdout",
          "text": [
            "Sanity Check Passed! Output shape for a batch of 5: torch.Size([5, 10])\n"
          ]
        }
      ]
    },
    {
      "cell_type": "code",
      "source": [
        "# Cell 8: Loss, Optimizer, and Scheduler\n",
        "\n",
        "# Using CrossEntropyLoss for multi-class classification\n",
        "loss_function = nn.CrossEntropyLoss()\n",
        "\n",
        "# AdamW is a good default optimizer for transformers\n",
        "model_optimizer = optim.AdamW(vit_model.parameters(), lr=INITIAL_LR, weight_decay=WEIGHT_DECAY)\n",
        "\n",
        "# CosineAnnealingLR adjusts the learning rate in a cosine curve, often improving results\n",
        "lr_scheduler = optim.lr_scheduler.CosineAnnealingLR(model_optimizer, T_max=NUM_EPOCHS)"
      ],
      "metadata": {
        "id": "dNDiQZab7OxN"
      },
      "execution_count": null,
      "outputs": []
    },
    {
      "cell_type": "code",
      "source": [
        "# Cell 9: Training and Evaluation Loop (with Best Model Saving)\n",
        "\n",
        "best_accuracy = 0.0\n",
        "MODEL_SAVE_PATH = \"/content/drive/MyDrive/best_vit_cifar10.pth\"\n",
        "\n",
        "for epoch in range(NUM_EPOCHS):\n",
        "    # --- Training Phase ---\n",
        "    vit_model.train()\n",
        "    total_train_loss = 0\n",
        "    progress_bar = tqdm(train_dataloader, desc=f\"Epoch {epoch+1}/{NUM_EPOCHS} [Training]\")\n",
        "\n",
        "    for images, labels in progress_bar:\n",
        "        images, labels = images.to(COMPUTE_DEVICE), labels.to(COMPUTE_DEVICE)\n",
        "\n",
        "        model_optimizer.zero_grad()\n",
        "        outputs = vit_model(images)\n",
        "        loss = loss_function(outputs, labels)\n",
        "        loss.backward()\n",
        "        model_optimizer.step()\n",
        "\n",
        "        total_train_loss += loss.item()\n",
        "        progress_bar.set_postfix(loss=loss.item())\n",
        "\n",
        "    # --- Validation Phase ---\n",
        "    vit_model.eval()\n",
        "    correct_predictions = 0\n",
        "    total_samples = 0\n",
        "    with torch.no_grad():\n",
        "        for images, labels in test_dataloader:\n",
        "            images, labels = images.to(COMPUTE_DEVICE), labels.to(COMPUTE_DEVICE)\n",
        "            outputs = vit_model(images)\n",
        "            _, predicted_class = torch.max(outputs, 1)\n",
        "            total_samples += labels.size(0)\n",
        "            correct_predictions += (predicted_class == labels).sum().item()\n",
        "\n",
        "    current_accuracy = 100 * correct_predictions / total_samples\n",
        "\n",
        "    # Print epoch summary\n",
        "    avg_train_loss = total_train_loss / len(train_dataloader)\n",
        "    print(f\"Epoch {epoch+1} Summary: Avg Train Loss: {avg_train_loss:.4f} | Test Accuracy: {current_accuracy:.2f}%\")\n",
        "\n",
        "    # Save the model if it has the best accuracy so far\n",
        "    if current_accuracy > best_accuracy:\n",
        "        best_accuracy = current_accuracy\n",
        "        torch.save(vit_model.state_dict(), MODEL_SAVE_PATH)\n",
        "        print(f\" New best model saved with accuracy: {best_accuracy:.2f}%\")\n",
        "\n",
        "    # Update the learning rate\n",
        "    lr_scheduler.step()\n",
        "\n",
        "print(\"\\n--- Training Finished ---\")"
      ],
      "metadata": {
        "colab": {
          "base_uri": "https://localhost:8080/"
        },
        "id": "5wsJyaEP7UJ9",
        "outputId": "380b8844-f8cc-4bc4-80c5-220623fd290c"
      },
      "execution_count": null,
      "outputs": [
        {
          "output_type": "stream",
          "name": "stderr",
          "text": [
            "Epoch 1/15 [Training]: 100%|██████████| 196/196 [01:34<00:00,  2.08it/s, loss=1.57]\n"
          ]
        },
        {
          "output_type": "stream",
          "name": "stdout",
          "text": [
            "Epoch 1 Summary: Avg Train Loss: 1.8278 | Test Accuracy: 45.16%\n",
            " New best model saved with accuracy: 45.16%\n"
          ]
        },
        {
          "output_type": "stream",
          "name": "stderr",
          "text": [
            "Epoch 2/15 [Training]: 100%|██████████| 196/196 [01:35<00:00,  2.04it/s, loss=1.48]\n"
          ]
        },
        {
          "output_type": "stream",
          "name": "stdout",
          "text": [
            "Epoch 2 Summary: Avg Train Loss: 1.4867 | Test Accuracy: 52.22%\n",
            " New best model saved with accuracy: 52.22%\n"
          ]
        },
        {
          "output_type": "stream",
          "name": "stderr",
          "text": [
            "Epoch 3/15 [Training]: 100%|██████████| 196/196 [01:36<00:00,  2.03it/s, loss=1.3]\n"
          ]
        },
        {
          "output_type": "stream",
          "name": "stdout",
          "text": [
            "Epoch 3 Summary: Avg Train Loss: 1.3576 | Test Accuracy: 54.64%\n",
            " New best model saved with accuracy: 54.64%\n"
          ]
        },
        {
          "output_type": "stream",
          "name": "stderr",
          "text": [
            "Epoch 4/15 [Training]: 100%|██████████| 196/196 [01:36<00:00,  2.04it/s, loss=1.18]\n"
          ]
        },
        {
          "output_type": "stream",
          "name": "stdout",
          "text": [
            "Epoch 4 Summary: Avg Train Loss: 1.2655 | Test Accuracy: 59.55%\n",
            " New best model saved with accuracy: 59.55%\n"
          ]
        },
        {
          "output_type": "stream",
          "name": "stderr",
          "text": [
            "Epoch 5/15 [Training]: 100%|██████████| 196/196 [01:36<00:00,  2.03it/s, loss=1.37]\n"
          ]
        },
        {
          "output_type": "stream",
          "name": "stdout",
          "text": [
            "Epoch 5 Summary: Avg Train Loss: 1.2081 | Test Accuracy: 60.51%\n",
            " New best model saved with accuracy: 60.51%\n"
          ]
        },
        {
          "output_type": "stream",
          "name": "stderr",
          "text": [
            "Epoch 6/15 [Training]: 100%|██████████| 196/196 [01:36<00:00,  2.03it/s, loss=1.31]\n"
          ]
        },
        {
          "output_type": "stream",
          "name": "stdout",
          "text": [
            "Epoch 6 Summary: Avg Train Loss: 1.1587 | Test Accuracy: 61.35%\n",
            " New best model saved with accuracy: 61.35%\n"
          ]
        },
        {
          "output_type": "stream",
          "name": "stderr",
          "text": [
            "Epoch 7/15 [Training]: 100%|██████████| 196/196 [01:36<00:00,  2.02it/s, loss=0.886]\n"
          ]
        },
        {
          "output_type": "stream",
          "name": "stdout",
          "text": [
            "Epoch 7 Summary: Avg Train Loss: 1.0958 | Test Accuracy: 63.42%\n",
            " New best model saved with accuracy: 63.42%\n"
          ]
        },
        {
          "output_type": "stream",
          "name": "stderr",
          "text": [
            "Epoch 8/15 [Training]: 100%|██████████| 196/196 [01:36<00:00,  2.03it/s, loss=1.12]\n"
          ]
        },
        {
          "output_type": "stream",
          "name": "stdout",
          "text": [
            "Epoch 8 Summary: Avg Train Loss: 1.0497 | Test Accuracy: 64.69%\n",
            " New best model saved with accuracy: 64.69%\n"
          ]
        },
        {
          "output_type": "stream",
          "name": "stderr",
          "text": [
            "Epoch 9/15 [Training]: 100%|██████████| 196/196 [01:36<00:00,  2.03it/s, loss=0.941]\n"
          ]
        },
        {
          "output_type": "stream",
          "name": "stdout",
          "text": [
            "Epoch 9 Summary: Avg Train Loss: 1.0075 | Test Accuracy: 66.53%\n",
            " New best model saved with accuracy: 66.53%\n"
          ]
        },
        {
          "output_type": "stream",
          "name": "stderr",
          "text": [
            "Epoch 10/15 [Training]: 100%|██████████| 196/196 [01:36<00:00,  2.04it/s, loss=1.09]\n"
          ]
        },
        {
          "output_type": "stream",
          "name": "stdout",
          "text": [
            "Epoch 10 Summary: Avg Train Loss: 0.9696 | Test Accuracy: 68.13%\n",
            " New best model saved with accuracy: 68.13%\n"
          ]
        },
        {
          "output_type": "stream",
          "name": "stderr",
          "text": [
            "Epoch 11/15 [Training]: 100%|██████████| 196/196 [01:36<00:00,  2.03it/s, loss=0.91]\n"
          ]
        },
        {
          "output_type": "stream",
          "name": "stdout",
          "text": [
            "Epoch 11 Summary: Avg Train Loss: 0.9333 | Test Accuracy: 68.85%\n",
            " New best model saved with accuracy: 68.85%\n"
          ]
        },
        {
          "output_type": "stream",
          "name": "stderr",
          "text": [
            "Epoch 12/15 [Training]: 100%|██████████| 196/196 [01:36<00:00,  2.04it/s, loss=0.962]\n"
          ]
        },
        {
          "output_type": "stream",
          "name": "stdout",
          "text": [
            "Epoch 12 Summary: Avg Train Loss: 0.8992 | Test Accuracy: 68.97%\n",
            " New best model saved with accuracy: 68.97%\n"
          ]
        },
        {
          "output_type": "stream",
          "name": "stderr",
          "text": [
            "Epoch 13/15 [Training]: 100%|██████████| 196/196 [01:36<00:00,  2.03it/s, loss=0.827]\n"
          ]
        },
        {
          "output_type": "stream",
          "name": "stdout",
          "text": [
            "Epoch 13 Summary: Avg Train Loss: 0.8746 | Test Accuracy: 70.07%\n",
            " New best model saved with accuracy: 70.07%\n"
          ]
        },
        {
          "output_type": "stream",
          "name": "stderr",
          "text": [
            "Epoch 14/15 [Training]: 100%|██████████| 196/196 [01:36<00:00,  2.04it/s, loss=0.785]\n"
          ]
        },
        {
          "output_type": "stream",
          "name": "stdout",
          "text": [
            "Epoch 14 Summary: Avg Train Loss: 0.8601 | Test Accuracy: 70.25%\n",
            " New best model saved with accuracy: 70.25%\n"
          ]
        },
        {
          "output_type": "stream",
          "name": "stderr",
          "text": [
            "Epoch 15/15 [Training]: 100%|██████████| 196/196 [01:36<00:00,  2.03it/s, loss=0.857]\n"
          ]
        },
        {
          "output_type": "stream",
          "name": "stdout",
          "text": [
            "Epoch 15 Summary: Avg Train Loss: 0.8518 | Test Accuracy: 70.68%\n",
            " New best model saved with accuracy: 70.68%\n",
            "\n",
            "--- Training Finished ---\n"
          ]
        }
      ]
    },
    {
      "cell_type": "code",
      "source": [
        "# Cell 10: Load Best Model and Report Final Accuracy\n",
        "\n",
        "\n",
        "MODEL_SAVE_PATH = \"/content/drive/MyDrive/best_vit_cifar10.pth\"\n",
        "\n",
        "# Hum yahan dropout_config ko define kar rahe hain\n",
        "dropout_config = {'attn': ATTN_DROPOUT_RATE, 'mlp': MLP_DROPOUT_RATE}\n",
        "\n",
        "# Ab hum naye model ka ek instance banayenge\n",
        "final_model = MyVisionTransformer(\n",
        "    image_size=IMG_DIM, patch_size=PATCH_DIM, in_channels=INPUT_CHANNELS, num_classes=NUM_CLASSES_OUTPUT,\n",
        "    embedding_dim=EMBEDDING_DIM, depth=TRANSFORMER_DEPTH, num_heads=NUM_ATTENTION_HEADS,\n",
        "    mlp_dim=MLP_HIDDEN_DIM, dropout_rates=dropout_config\n",
        ").to(COMPUTE_DEVICE)\n",
        "\n",
        "# Best model ke saved weights ko load karenge\n",
        "final_model.load_state_dict(torch.load(MODEL_SAVE_PATH))\n",
        "final_model.eval()\n",
        "\n",
        "# --- Final Evaluation ---\n",
        "final_correct = 0\n",
        "final_total = 0\n",
        "with torch.no_grad():\n",
        "    for images, labels in tqdm(test_dataloader, desc=\"Final Evaluation\"):\n",
        "        images, labels = images.to(COMPUTE_DEVICE), labels.to(COMPUTE_DEVICE)\n",
        "        outputs = final_model(images)\n",
        "        _, predicted = torch.max(outputs.data, 1)\n",
        "        final_total += labels.size(0)\n",
        "        final_correct += (predicted == labels).sum().item()\n",
        "\n",
        "final_test_accuracy = 100 * final_correct / final_total\n",
        "print(\"\\n--- Final Results ---\")\n",
        "print(f\"Best model loaded from '{MODEL_SAVE_PATH}'\")\n",
        "print(f\"Final Overall Test Accuracy on the best model: {final_test_accuracy:.2f}%\")"
      ],
      "metadata": {
        "id": "yPLkkEpLfWpl",
        "outputId": "6b837285-978e-485c-cf53-5b61f92b6ff0",
        "colab": {
          "base_uri": "https://localhost:8080/"
        }
      },
      "execution_count": 13,
      "outputs": [
        {
          "output_type": "stream",
          "name": "stderr",
          "text": [
            "Final Evaluation: 100%|██████████| 40/40 [00:06<00:00,  5.74it/s]"
          ]
        },
        {
          "output_type": "stream",
          "name": "stdout",
          "text": [
            "\n",
            "--- Final Results ---\n",
            "Best model loaded from '/content/drive/MyDrive/best_vit_cifar10.pth'\n",
            "Final Overall Test Accuracy on the best model: 70.68%\n"
          ]
        },
        {
          "output_type": "stream",
          "name": "stderr",
          "text": [
            "\n"
          ]
        }
      ]
    }
  ]
}